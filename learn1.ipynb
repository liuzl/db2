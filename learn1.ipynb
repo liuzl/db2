{
 "cells": [
  {
   "cell_type": "code",
   "execution_count": 1,
   "metadata": {},
   "outputs": [],
   "source": [
    "import ibm_db\n",
    "conn = ibm_db.connect(\"DATABASE=sample;HOSTNAME=10.0.0.5;PORT=50000;PROTOCOL=TCPIP;UID=db2inst1;PWD=db2inst1;\", \"\", \"\")"
   ]
  },
  {
   "cell_type": "code",
   "execution_count": 2,
   "metadata": {},
   "outputs": [
    {
     "name": "stdout",
     "output_type": "stream",
     "text": [
      "Sanders\n",
      "Pernal\n",
      "Marenghi\n",
      "O'Brien\n",
      "Hanes\n",
      "Quigley\n",
      "Rothman\n",
      "James\n",
      "Koonitz\n",
      "Plotz\n",
      "Ngan\n",
      "Naughton\n",
      "Yamaguchi\n",
      "Fraye\n",
      "Williams\n",
      "Molinare\n",
      "Kermisch\n",
      "Abrahams\n",
      "Sneider\n",
      "Scoutten\n",
      "Lu\n",
      "Smith\n",
      "Lundquist\n",
      "Daniels\n",
      "Wheeler\n",
      "Jones\n",
      "Lea\n",
      "Wilson\n",
      "Quill\n",
      "Davis\n",
      "Graham\n",
      "Gonzales\n",
      "Burke\n",
      "Edwards\n",
      "Gafney\n"
     ]
    }
   ],
   "source": [
    "sql = \"SELECT * FROM STAFF\"\n",
    "stmt = ibm_db.exec_immediate(conn, sql)\n",
    "#result = ibm_db.fetch_both(stmt)\n",
    "result = ibm_db.fetch_assoc(stmt)\n",
    "while result:\n",
    "  print(result['NAME'])\n",
    "  result = ibm_db.fetch_assoc(stmt)"
   ]
  },
  {
   "cell_type": "code",
   "execution_count": null,
   "metadata": {},
   "outputs": [],
   "source": []
  }
 ],
 "metadata": {
  "kernelspec": {
   "display_name": "Python 3",
   "language": "python",
   "name": "python3"
  },
  "language_info": {
   "codemirror_mode": {
    "name": "ipython",
    "version": 3
   },
   "file_extension": ".py",
   "mimetype": "text/x-python",
   "name": "python",
   "nbconvert_exporter": "python",
   "pygments_lexer": "ipython3",
   "version": "3.6.5"
  }
 },
 "nbformat": 4,
 "nbformat_minor": 2
}
